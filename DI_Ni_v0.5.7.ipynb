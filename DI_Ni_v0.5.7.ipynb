{
 "cells": [
  {
   "cell_type": "markdown",
   "id": "8ed3fd6e-217d-4f9e-9872-1a22369cc0fa",
   "metadata": {
    "tags": []
   },
   "source": [
    "# Dictionary indexing\n",
    "\n",
    "Håkon Wiik Ånes (hakon.w.anes@ntnu.no) and Jarle Hjelen, 2021-12-17\n",
    "\n",
    "See the kikuchipy manual (`kikuchipy/kikuchipy_manuals`) or the user guide notebooks (`kikuchipy/kikuchipy_user_guide_notebooks`)\n",
    "for further details. These are also available at https://kikuchipy.org.\n",
    "\n",
    "ENDRE KUN DISSE PARAMETRENE:"
   ]
  },
  {
   "cell_type": "code",
   "execution_count": 1,
   "id": "1af0455f-e70d-4cce-b23b-90e7ddd3ca54",
   "metadata": {},
   "outputs": [],
   "source": [
    "# Mappe med Pattern.dat. Må ligge i C:/EBSD data/Data set\n",
    "sample = \"C:/EBSD data/DI data/Al 60x60\"\n",
    "\n",
    "# Pattern Center og prøvetilt for prøve-detektor-modell\n",
    "pc = (0.489, 0.800, 0.497)\n",
    "\n",
    "# Punktgruppeidentifikatorer. LA STÅ!\n",
    "pg_dict = {\n",
    "    \"al\":        \"m-3m\",\n",
    "    \"austenite\": \"m-3m\",\n",
    "    \"ferrite\":   \"m-3m\",\n",
    "    \"ni\":        \"m-3m\",\n",
    "    \"si\":        \"m-3m\",\n",
    "    \"ti_alpha\":  \"6_mmm\",  # 6/mmm\n",
    "    \"ti_beta\":   \"m-3m\",\n",
    "}\n",
    "# Fase og energi for master pattern\n",
    "phase = \"al\"  # al, austenite, ferrite, ni, si, ti_alpha, ti_beta\n",
    "pg = pg_dict[phase]\n",
    "\n",
    "# Binning\n",
    "new_signal_shape = (60, 60)\n",
    "\n",
    "# Gjennomsnittlig disorientering (minste misorientering) i katalogen\n",
    "disori = 1.8  # Degrees\n",
    "\n",
    "# Sirkulær maske kan anvendes under indisering (ikke refinement enda)\n",
    "use_signal_mask = False  # True or False\n",
    "\n",
    "# Antall mønstre å matche under hver iterasjon av DI (tidligere n_slices).\n",
    "# Tryggest å ikke sette denne (None). Høyere antall bruker generelt mer minne,\n",
    "# men kan øke hastigheten.\n",
    "n_per_iteration = None\n",
    "\n",
    "# Refinement?\n",
    "# 0 - Ingen\n",
    "# 1 - Orientation\n",
    "# 2 - Projection center\n",
    "# 3 - Orientation and projection center\n",
    "refine = 0"
   ]
  },
  {
   "cell_type": "code",
   "execution_count": 3,
   "id": "d03bfada-5005-4e72-8017-ba4f67e76dbe",
   "metadata": {},
   "outputs": [
    {
     "name": "stdout",
     "output_type": "stream",
     "text": [
      "Directory 'C:/EBSD data/DI data/Al 60x60\\di_results1' exists, will try to create directory 'C:/EBSD data/DI data/Al 60x60\\di_results2'\n",
      "Directory 'C:/EBSD data/DI data/Al 60x60\\di_results2' exists, will try to create directory 'C:/EBSD data/DI data/Al 60x60\\di_results3'\n"
     ]
    }
   ],
   "source": [
    "%matplotlib qt5\n",
    "\n",
    "import hyperspy.api as hs\n",
    "import kikuchipy as kp\n",
    "import matplotlib.pyplot as plt\n",
    "import numpy as np\n",
    "from orix.quaternion import Rotation\n",
    "from orix import io, sampling\n",
    "import os\n",
    "from time import time\n",
    "import warnings\n",
    "\n",
    "\n",
    "# Paths to EBSD simulations and orientation sampling (don't change)\n",
    "dir_top = \"C:/EBSD data/kikuchipy\"\n",
    "dir_sim = os.path.join(dir_top, \"ebsd_simulations\")\n",
    "dir_ori_samp = os.path.join(dir_top, \"orientation_sampling\")\n",
    "\n",
    "# Paths to data (change)\n",
    "dir_data = \"C:/EBSD data/DI dataset\"\n",
    "dir_sample = os.path.join(dir_data, sample)\n",
    "dir_nordif = dir_sample\n",
    "\n",
    "for i in range(1, 100):\n",
    "    try:\n",
    "        dir_out = os.path.join(dir_sample, \"di_results\" + str(i))\n",
    "        os.mkdir(dir_out)\n",
    "        break\n",
    "    except FileExistsError:\n",
    "        print(f\"Directory '{dir_out}' exists, will try to create directory '{dir_out[:-1] + str(i + 1)}'\")\n",
    "savefig_kwargs = dict(bbox_inches=\"tight\", pad_inches=0, dpi=150)\n",
    "\n",
    "t0 = time()"
   ]
  },
  {
   "cell_type": "code",
   "execution_count": 4,
   "id": "c860889f-926f-42c1-bc74-7745bd69f5e0",
   "metadata": {},
   "outputs": [],
   "source": [
    "class SettingFile:\n",
    "    def __init__(self, file_path):\n",
    "        self.file = open(file_path, mode=\"w\")\n",
    "    def write(self, key, value):\n",
    "        try:\n",
    "            self.file.write(f\"{key}: {value}\\n\")\n",
    "        except:\n",
    "            warnings.warn(f\"Could not write '{key}: {value}' to settings file.\")\n",
    "    def close(self):\n",
    "        self.file.close()"
   ]
  },
  {
   "cell_type": "code",
   "execution_count": 5,
   "id": "a69faa17-4884-4c03-9df0-37f98c5d86ff",
   "metadata": {},
   "outputs": [
    {
     "data": {
      "text/plain": [
       "'0.6.1'"
      ]
     },
     "execution_count": 5,
     "metadata": {},
     "output_type": "execute_result"
    }
   ],
   "source": [
    "kp.__version__"
   ]
  },
  {
   "cell_type": "markdown",
   "id": "574006cf-15f3-4992-bd12-77faca96dcd6",
   "metadata": {},
   "source": [
    "## Load data and inspect"
   ]
  },
  {
   "cell_type": "code",
   "execution_count": 6,
   "id": "6ace81c0-5551-482c-a423-ca45b9aab1c1",
   "metadata": {},
   "outputs": [
    {
     "data": {
      "text/plain": [
       "<EBSD, title: Pattern, dimensions: (200, 200|60, 60)>"
      ]
     },
     "execution_count": 6,
     "metadata": {},
     "output_type": "execute_result"
    }
   ],
   "source": [
    "file = os.path.join(dir_nordif, \"Pattern.dat\")\n",
    "s = kp.load(file, lazy=False)  # Set lazy=True if Pattern.dat is close to or greater than available memory\n",
    "s"
   ]
  },
  {
   "cell_type": "code",
   "execution_count": 7,
   "id": "9d578272-215f-4acf-8e36-e779c193c5b5",
   "metadata": {},
   "outputs": [],
   "source": [
    "sem_md = s.metadata.Acquisition_instrument.SEM\n",
    "\n",
    "energy = sem_md.beam_energy\n",
    "#energy = 15  # kV\n",
    "\n",
    "sample_tilt = sem_md.Detector.EBSD.sample_tilt\n",
    "#sample_tilt = 70  # Degrees"
   ]
  },
  {
   "cell_type": "code",
   "execution_count": 11,
   "id": "ae34bf67-de2f-49e4-9b55-cdbe37d8a14f",
   "metadata": {},
   "outputs": [],
   "source": [
    "#s.plot()"
   ]
  },
  {
   "cell_type": "markdown",
   "id": "1e0cb72d-0dce-46ec-973a-fa372a4d2837",
   "metadata": {},
   "source": [
    "## Set up setting file"
   ]
  },
  {
   "cell_type": "code",
   "execution_count": 12,
   "id": "0b8d5f98-e777-49bd-b5ce-9adf0b3f51d3",
   "metadata": {},
   "outputs": [],
   "source": [
    "# Set up settings file\n",
    "settings_fname = os.path.join(dir_out, \"SettingKP.txt\")\n",
    "f_settings = SettingFile(settings_fname)\n",
    "\n",
    "# SEM parameters\n",
    "f_settings.write(\"Microscope\", sem_md.microscope)\n",
    "f_settings.write(\"Acceleration voltage\", f\"{energy} kV\")\n",
    "f_settings.write(\"Sample tilt\", f\"{sample_tilt} degrees\")\n",
    "f_settings.write(\"Working distance\", sem_md.working_distance)\n",
    "f_settings.write(\"Magnification\", sem_md.magnification)\n",
    "f_settings.write(\"Navigation shape (rows, columns)\", s.axes_manager.navigation_shape[::-1])\n",
    "f_settings.write(\"Signal shape (rows, columns)\", s.axes_manager.signal_shape[::-1])\n",
    "f_settings.write(\"Step size\", f\"{s.axes_manager[0].scale} um\\n\")\n",
    "\n",
    "# DI parameters\n",
    "f_settings.write(\"kikuchipy version\", kp.__version__)\n",
    "f_settings.write(\"PC (x*, y*, z*)\", pc)\n",
    "f_settings.write(\"Phases(s)\", phase)\n",
    "f_settings.write(\"Pattern resolution DI\", new_signal_shape)\n",
    "f_settings.write(\"Delta orientation\", f\"{disori} degrees\")\n",
    "f_settings.write(\"Circular mask\", use_signal_mask)\n",
    "f_settings.write(\"Number of experimental patterns matched per iteration [None - all]\", n_per_iteration)\n",
    "f_settings.write(\"Refinement [0 - None, 1 - Orientations, 2 - PC, 3 - Orientations and PC]\", refine)"
   ]
  },
  {
   "cell_type": "markdown",
   "id": "7c475787-8a1c-4671-8805-9f6a1e5da4bb",
   "metadata": {
    "tags": [],
    "toc-hr-collapsed": true
   },
   "source": [
    "## Pre-pattern processing maps\n",
    "\n",
    "Maps of the data before doing any processing of pattern intensities.\n",
    "\n",
    "### Mean intensity in each pattern"
   ]
  },
  {
   "cell_type": "code",
   "execution_count": 13,
   "id": "e2db62b9-6bd4-4b48-a4fa-ca1fd88b16a9",
   "metadata": {},
   "outputs": [],
   "source": [
    "mean_intensity = s.mean(axis=(2, 3))\n",
    "plt.imsave(os.path.join(dir_out, \"mean_intensity.png\"), mean_intensity.data, cmap=\"gray\")"
   ]
  },
  {
   "cell_type": "markdown",
   "id": "913886b2-f112-439b-b005-dded64628ed6",
   "metadata": {},
   "source": [
    "### Virtual backscatter electron (VBSE) imaging\n",
    "\n",
    "Also called virtual diode imaging, virtual forescatter electron (VFSE) imaging, and many other things."
   ]
  },
  {
   "cell_type": "code",
   "execution_count": 14,
   "id": "7acfdfee-d623-4de9-9720-2404c44b8f2e",
   "metadata": {},
   "outputs": [
    {
     "data": {
      "text/plain": [
       "VirtualBSEGenerator for <EBSD, title: Pattern, dimensions: (200, 200|60, 60)>"
      ]
     },
     "execution_count": 14,
     "metadata": {},
     "output_type": "execute_result"
    }
   ],
   "source": [
    "vbse_gen = kp.generators.VirtualBSEGenerator(s)\n",
    "vbse_gen"
   ]
  },
  {
   "cell_type": "markdown",
   "id": "fc0a0b05-508f-4224-81ef-db56bea38a03",
   "metadata": {},
   "source": [
    "#### RGB image"
   ]
  },
  {
   "cell_type": "code",
   "execution_count": 15,
   "id": "4c48d0a2-1119-4e03-a99e-d55dc2feecd4",
   "metadata": {},
   "outputs": [],
   "source": [
    "red = (2, 1)\n",
    "green = (2, 2)\n",
    "blue = (2, 3)\n",
    "#p = vbse_gen.plot_grid(rgb_channels=[red, green, blue])\n",
    "#p._plot.signal_plot.figure.savefig(os.path.join(dir_out, \"vbse_rgb_grid.png\"), **savefig_kwargs)"
   ]
  },
  {
   "cell_type": "code",
   "execution_count": 16,
   "id": "82f8a2d0-ef7e-49ad-b356-10798e5dc0ce",
   "metadata": {},
   "outputs": [],
   "source": [
    "vbse_rgb_img = vbse_gen.get_rgb_image(r=red, g=green, b=blue)\n",
    "vbse_rgb_img.change_dtype(\"uint8\")\n",
    "plt.imsave(os.path.join(dir_out, \"vbse_rgb.png\"), vbse_rgb_img.data)\n",
    "#s.plot(navigator=vbse_rgb_img)"
   ]
  },
  {
   "cell_type": "markdown",
   "id": "ddb113b1-883a-4490-9f7a-b3d92821f1bc",
   "metadata": {},
   "source": [
    "#### One image per VBSE grid tile"
   ]
  },
  {
   "cell_type": "code",
   "execution_count": 17,
   "id": "bd16407d-b5e6-4bce-bcea-aa67ed67c79e",
   "metadata": {},
   "outputs": [],
   "source": [
    "vbse_gen.grid_shape = (3, 3)\n",
    "#p = vbse_gen.plot_grid()\n",
    "#p._plot.signal_plot.figure.savefig(os.path.join(dir_out, \"vbse_grid2.png\"), **savefig_kwargs)"
   ]
  },
  {
   "cell_type": "code",
   "execution_count": 18,
   "id": "cf37d5b4-28bd-43ed-a6e9-b542eb5a4db6",
   "metadata": {},
   "outputs": [
    {
     "name": "stdout",
     "output_type": "stream",
     "text": [
      "Rescaling the image intensities:\n",
      "[########################################] | 100% Completed | 448.00 ms\n"
     ]
    }
   ],
   "source": [
    "vbse_imgs = vbse_gen.get_images_from_grid()\n",
    "vbse_imgs.rescale_intensity(out_range=(0, 1), percentiles=(0.5, 99.5))\n",
    "#vbse_imgs.plot()\n",
    "#s.plot(navigator=vbse_imgs.inav[1, 2])"
   ]
  },
  {
   "cell_type": "code",
   "execution_count": 19,
   "id": "b8e81465-2d94-420d-b029-4aeb046b1843",
   "metadata": {},
   "outputs": [],
   "source": [
    "fig, ax = plt.subplots(nrows=3, ncols=3)\n",
    "for idx in np.ndindex(vbse_imgs.axes_manager.navigation_shape[::-1]):\n",
    "    img = vbse_imgs.data[idx]\n",
    "    ax[idx].imshow(img, cmap=\"gray\")\n",
    "    ax[idx].axis(\"off\")\n",
    "#    plt.imsave(os.path.join(dir_out, f\"vbse_img_y{idx[0]}_x{idx[1]}.png\"), arr=img, cmap=\"gray\")\n",
    "fig.tight_layout(w_pad=0.5, h_pad=0.5)\n",
    "fig.savefig(os.path.join(dir_out, \"vbse_img.png\"), **savefig_kwargs)\n",
    "\n",
    "plt.close(\"all\")"
   ]
  },
  {
   "cell_type": "markdown",
   "id": "228ebe15-d04f-45b7-a475-f745f15e386e",
   "metadata": {},
   "source": [
    "## Processing of pattern intensities\n",
    "\n",
    "Improve the signal-to-noise ratio. This means enhancing the Kikuchi pattern (signal)\n",
    "and removing the diffusly scattered backscatter electrons (noise)."
   ]
  },
  {
   "cell_type": "code",
   "execution_count": 20,
   "id": "308f6696-d380-4e7a-a41b-235e3d3fd26f",
   "metadata": {},
   "outputs": [
    {
     "name": "stdout",
     "output_type": "stream",
     "text": [
      "Removing the static background:\n",
      "[########################################] | 100% Completed | 107.44 ms\n",
      "[########################################] | 100% Completed | 1.88 ss\n",
      "[########################################] | 100% Completed | 1.99 s\n"
     ]
    }
   ],
   "source": [
    "s.remove_static_background()\n",
    "f_settings.write(\"Static background corrected\", True)"
   ]
  },
  {
   "cell_type": "code",
   "execution_count": 21,
   "id": "35acbe9c-5218-406c-b2e0-791f2071ff49",
   "metadata": {},
   "outputs": [
    {
     "name": "stdout",
     "output_type": "stream",
     "text": [
      "Removing the dynamic background:\n",
      "[########################################] | 100% Completed | 106.78 ms\n",
      "[########################################] | 100% Completed | 7.61 ss\n",
      "[########################################] | 100% Completed | 7.72 s\n"
     ]
    }
   ],
   "source": [
    "s.remove_dynamic_background()\n",
    "f_settings.write(\"Dynamic background corrected\", True)"
   ]
  },
  {
   "cell_type": "code",
   "execution_count": 22,
   "id": "534e62a2-d0d2-4d1d-9947-1ef479949f6e",
   "metadata": {},
   "outputs": [],
   "source": [
    "#s.plot(navigator=vbse_rgb_img)"
   ]
  },
  {
   "cell_type": "code",
   "execution_count": 23,
   "id": "555b2470-7d93-428b-be0d-445eb9726a12",
   "metadata": {},
   "outputs": [],
   "source": [
    "window = kp.filters.Window(\"gaussian\", std=1)\n",
    "#fig = window.plot(return_figure=True)\n",
    "#fig.savefig(os.path.join(dir_out, \"averaging_window.png\"), **savefig_kwargs)"
   ]
  },
  {
   "cell_type": "code",
   "execution_count": 24,
   "id": "ee0b5dca-ed28-46ac-b56c-2aa6c262a58e",
   "metadata": {},
   "outputs": [],
   "source": [
    "#s.average_neighbour_patterns(window)\n",
    "#f_settings.write(\"Averaging with neighbour patterns\", True)"
   ]
  },
  {
   "cell_type": "markdown",
   "id": "b1652764-0b6c-46c6-abcc-963746476ca2",
   "metadata": {},
   "source": [
    "Write processed patterns to file"
   ]
  },
  {
   "cell_type": "code",
   "execution_count": 25,
   "id": "ff1a506a-6238-4470-8d7f-872d1adeac7b",
   "metadata": {},
   "outputs": [],
   "source": [
    "#s.save(os.path.join(dir_nordif, \"Pattern_ave.dat\"))  # NORDIF\n",
    "#s.save(os.path.join(dir_out, \"Pattern_ave.h5\"))  # HDF5"
   ]
  },
  {
   "cell_type": "markdown",
   "id": "2d5b7642-1196-4bea-9ea4-b61e42967bbe",
   "metadata": {},
   "source": [
    "## Pre-indexing maps\n",
    "\n",
    "Maps after enhancing the signal-to-noise ratio, but before dictionary indexing."
   ]
  },
  {
   "cell_type": "code",
   "execution_count": 26,
   "id": "a727d178-3f61-4534-8707-62f5ee14d247",
   "metadata": {},
   "outputs": [
    {
     "name": "stdout",
     "output_type": "stream",
     "text": [
      "Calculating the image quality:\n",
      "[########################################] | 100% Completed | 108.09 ms\n",
      "[########################################] | 100% Completed | 3.53 ss\n",
      "[########################################] | 100% Completed | 3.64 s\n"
     ]
    }
   ],
   "source": [
    "iq = s.get_image_quality()\n",
    "plt.imsave(os.path.join(dir_out, \"iq.png\"), iq, cmap=\"gray\")\n",
    "#s.plot(navigator=hs.signals.Signal2D(iq))"
   ]
  },
  {
   "cell_type": "markdown",
   "id": "e9e5821f-2709-48fd-9926-5be36d93305c",
   "metadata": {},
   "source": [
    "The average dot product map computation was implemented by Ole Natlandsmyr."
   ]
  },
  {
   "cell_type": "code",
   "execution_count": 27,
   "id": "fae284ef-755a-4bee-aedc-5a84515a392e",
   "metadata": {},
   "outputs": [
    {
     "name": "stdout",
     "output_type": "stream",
     "text": [
      "Calculating average neighbour dot product map:\n",
      "[########################################] | 100% Completed | 22.63 ss\n"
     ]
    }
   ],
   "source": [
    "adp = s.get_average_neighbour_dot_product_map()\n",
    "plt.imsave(os.path.join(dir_out, \"adp.png\"), adp, cmap=\"gray\")\n",
    "#s.plot(navigator=hs.signals.Signal2D(adp))"
   ]
  },
  {
   "cell_type": "markdown",
   "id": "8594bff0-0126-48bc-b1ff-55d863bf21c6",
   "metadata": {},
   "source": [
    "## Dictionary indexing\n",
    "\n",
    "Set up and perform dictionary indexing of patterns."
   ]
  },
  {
   "cell_type": "markdown",
   "id": "52d1c3b4-af9c-47bf-8d89-92d3d95c56da",
   "metadata": {},
   "source": [
    "### Bin experimental patterns (\"advanced\" functionality)"
   ]
  },
  {
   "cell_type": "markdown",
   "id": "2bc5deb1-0cbf-49b1-af35-73b739a7e9a0",
   "metadata": {},
   "source": [
    "WARNING! Calling `s.rebin()` will increase the data type from 8 bit to float 64, meaning a memory increase of about 8. We rescale down to 8 bit to free up memory again."
   ]
  },
  {
   "cell_type": "code",
   "execution_count": 28,
   "id": "687cb9b8-45cc-4b06-8e18-d76693ef3b34",
   "metadata": {},
   "outputs": [
    {
     "name": "stdout",
     "output_type": "stream",
     "text": [
      "Rescaling the image intensities:\n",
      "[########################################] | 100% Completed | 2.54 ss\n"
     ]
    }
   ],
   "source": [
    "nav_shape = s.axes_manager.navigation_shape\n",
    "s2 = s.rebin(new_shape=nav_shape + new_signal_shape)\n",
    "s2.rescale_intensity(dtype_out=np.uint8)"
   ]
  },
  {
   "cell_type": "markdown",
   "id": "dcfc67a7-5a57-4b01-bf0c-a2f755fb26cb",
   "metadata": {},
   "source": [
    "### Load simulated master pattern"
   ]
  },
  {
   "cell_type": "code",
   "execution_count": 29,
   "id": "190e38aa-1076-47ed-9ce2-fc47c773c18f",
   "metadata": {},
   "outputs": [
    {
     "name": "stderr",
     "output_type": "stream",
     "text": [
      "c:\\EBSD-GUI\\env\\lib\\site-packages\\kikuchipy\\io\\plugins\\emsoft_ebsd_master_pattern.py:91: VisibleDeprecationWarning: `hemisphere` parameter options 'north' and 'south' are deprecated and will raise an error in version 0.7, use 'upper' and 'lower' instead. Changed to 'upper' or 'lower'.\n",
      "  warnings.warn(\n"
     ]
    },
    {
     "data": {
      "text/plain": [
       "<name: al. space group: Fm-3m. point group: m-3m. proper point group: 432. color: tab:blue>"
      ]
     },
     "execution_count": 29,
     "metadata": {},
     "output_type": "execute_result"
    }
   ],
   "source": [
    "file_mp = os.path.join(dir_sim, phase, f\"{phase}_mc_mp_20kv.h5\")\n",
    "mp = kp.load(\n",
    "    file_mp,\n",
    "    energy=energy,  # single energies like 10, 11, 12 etc. or a range like (10, 20)\n",
    "    projection=\"lambert\",  # stereographic, lambert\n",
    "    hemisphere=\"north\"  # north, south, both\n",
    ")\n",
    "mp.phase"
   ]
  },
  {
   "cell_type": "code",
   "execution_count": 30,
   "id": "26d617fb-df00-497c-ae30-29dd4486ff01",
   "metadata": {},
   "outputs": [],
   "source": [
    "#mp.plot()"
   ]
  },
  {
   "cell_type": "markdown",
   "id": "02bd9167-f9df-4e7d-988c-28effd4e3f76",
   "metadata": {},
   "source": [
    "### Sample orientations"
   ]
  },
  {
   "cell_type": "code",
   "execution_count": 31,
   "id": "eeb6e20f-ce1f-4409-8907-960d18438524",
   "metadata": {},
   "outputs": [
    {
     "data": {
      "text/plain": [
       "Rotation (141267,)\n",
       "[[ 0.8562 -0.3474 -0.3474 -0.1595]\n",
       " [ 0.8562 -0.3497 -0.3497 -0.1493]\n",
       " [ 0.8562 -0.3518 -0.3518 -0.139 ]\n",
       " ...\n",
       " [ 0.8562  0.3518  0.3518  0.139 ]\n",
       " [ 0.8562  0.3497  0.3497  0.1493]\n",
       " [ 0.8562  0.3474  0.3474  0.1595]]"
      ]
     },
     "execution_count": 31,
     "metadata": {},
     "output_type": "execute_result"
    }
   ],
   "source": [
    "rot = sampling.get_sample_fundamental(method=\"cubochoric\", resolution=disori, point_group=mp.phase.point_group)\n",
    "rot"
   ]
  },
  {
   "cell_type": "markdown",
   "id": "cc01cd5e-2fa9-4f1d-ac58-6f998d816142",
   "metadata": {},
   "source": [
    "Alternative to using orientations sampled with orix is to import orientations\n",
    "sampled with EMsoft's `EMsampleRFZ` (Rodrigues Fundamental Zone) program. The\n",
    "sampling in orix is based on EMsoft's sampling, so the results should be\n",
    "identical, but you never know for sure..."
   ]
  },
  {
   "cell_type": "code",
   "execution_count": 32,
   "id": "17451dfa-e5f6-4d92-a53a-b6aec36360a0",
   "metadata": {},
   "outputs": [],
   "source": [
    "#euler = np.load(os.path.join(dir_ori_samp, f\"pg_{pg}_n100_eu.npz\"))[\"arr_0\"]\n",
    "#rot = Rotation.from_euler(np.deg2rad(euler1))\n",
    "#rot  # Displayed as quaternions (q0, q1, q2, q3)"
   ]
  },
  {
   "cell_type": "markdown",
   "id": "c390a2f0-c630-48d7-b1df-46006ec4ff50",
   "metadata": {},
   "source": [
    "### Define the detector-sample geometry"
   ]
  },
  {
   "cell_type": "code",
   "execution_count": 33,
   "id": "d85a5f1f-cb1e-4e74-837b-3d0147a412f2",
   "metadata": {},
   "outputs": [
    {
     "data": {
      "text/plain": [
       "EBSDDetector (60, 60), px_size 1 um, binning 1, tilt 0, azimuthal 0, pc (0.489, 0.2, 0.497)"
      ]
     },
     "execution_count": 33,
     "metadata": {},
     "output_type": "execute_result"
    }
   ],
   "source": [
    "sig_shape = s2.axes_manager.signal_shape[::-1]  # HyperSpy: (column, row), NumPy: (row, column)\n",
    "detector = kp.detectors.EBSDDetector(\n",
    "    shape=sig_shape,\n",
    "    sample_tilt=sample_tilt,  # Degrees\n",
    "    pc=pc,\n",
    "    convention=\"tsl\",  # Default is Bruker\n",
    ")\n",
    "detector"
   ]
  },
  {
   "cell_type": "markdown",
   "id": "f84544c1-daa0-4226-bd25-d2d8035ff6f5",
   "metadata": {},
   "source": [
    "### Create signal mask"
   ]
  },
  {
   "cell_type": "code",
   "execution_count": 34,
   "id": "30c6fa2c-920b-496d-9a53-2e371b5eff79",
   "metadata": {},
   "outputs": [],
   "source": [
    "if use_signal_mask:\n",
    "    signal_mask = ~kp.filters.Window(\"circular\", sig_shape).astype(bool)\n",
    "\n",
    "    p = s2.inav[0, 0].data\n",
    "    fig, ax = plt.subplots(ncols=2, figsize=(10, 5))\n",
    "    ax[0].imshow(p * signal_mask, cmap=\"gray\")\n",
    "    ax[0].set_title(\"Not used in matching\")\n",
    "    ax[1].imshow(p * ~signal_mask, cmap=\"gray\")\n",
    "    ax[1].set_title(\"Used in matching\")\n",
    "    fig.savefig(os.path.join(dir_out, \"circular_mask_for_di.png\"), **savefig_kwargs)\n",
    "\n",
    "plt.close(\"all\")"
   ]
  },
  {
   "cell_type": "markdown",
   "id": "d4fbd1d6-a005-4e07-a29f-81701734390f",
   "metadata": {},
   "source": [
    "Simulate one pattern to check the parameters. The master pattern sampling was implemented by Lars Lervik."
   ]
  },
  {
   "cell_type": "code",
   "execution_count": 35,
   "id": "1a74b59d-48fc-40f6-a0af-7f7ede5e923f",
   "metadata": {},
   "outputs": [],
   "source": [
    "#sim1 = mp.get_patterns(\n",
    "#    rotations=Rotation.from_euler(np.deg2rad([0, 0, 0])),\n",
    "##    rotations=rot[0],\n",
    "#    detector=detector,\n",
    "#    energy=energy,  # Defined above\n",
    "#    compute=True,  # if False, sim.compute() must be called at a later time\n",
    "#)\n",
    "\n",
    "#fig, _ = detector.plot(\n",
    "#    pattern=sim1.squeeze().data,\n",
    "#    draw_gnomonic_circles=True,\n",
    "#    coordinates=\"gnomonic\",\n",
    "#    return_fig_ax=True\n",
    "#)\n",
    "#fig.savefig(os.path.join(dir_out, \"pc.png\"), **savefig_kwargs)\n",
    "\n",
    "#sim1"
   ]
  },
  {
   "cell_type": "markdown",
   "id": "361ce571-4b63-44b6-abb1-1b06322bb936",
   "metadata": {},
   "source": [
    "### Generate dictionary\n",
    "\n",
    "The master pattern sampling was implemented by Lars Lervik."
   ]
  },
  {
   "cell_type": "code",
   "execution_count": 36,
   "id": "57383cc8-e5c3-4646-badf-a6fa3ead8942",
   "metadata": {},
   "outputs": [
    {
     "data": {
      "text/html": [
       "<table>\n",
       "    <tr>\n",
       "        <td>\n",
       "            <table>\n",
       "                <thead>\n",
       "                    <tr>\n",
       "                        <th> Title: </th>\n",
       "                        <td>  </td>\n",
       "                    </tr>\n",
       "                    <tr>\n",
       "                        <th> SignalType: </th>\n",
       "                        <td> EBSD </td>\n",
       "                    </tr>\n",
       "                </thead>\n",
       "                <thead>\n",
       "                    <tr>\n",
       "                        <td>  </td>\n",
       "                        <th> Array </th>\n",
       "                        <th> Chunk </th>\n",
       "                    </tr>\n",
       "                </thead>\n",
       "                <tbody>\n",
       "                    \n",
       "                    <tr>\n",
       "                        <th> Bytes </th>\n",
       "                        <td> 1.89 GiB </td>\n",
       "                        <td> 92.38 MiB </td>\n",
       "                    </tr>\n",
       "                    \n",
       "                    <tr>\n",
       "                        <th> Shape </th>\n",
       "                        <td> (141267|60, 60) </td>\n",
       "                        <td> (6727|<b>60</b>,<b>60</b>) </td>\n",
       "                    </tr>\n",
       "                    <tr>\n",
       "                        <th> Count </th>\n",
       "                        <td> 44 Tasks </td>\n",
       "                        <td> 21 Chunks </td>\n",
       "                    </tr>\n",
       "                    <tr>\n",
       "                    <th> Type </th>\n",
       "                    <td> float32 </td>\n",
       "                    <td> numpy.ndarray </td>\n",
       "                    </tr>\n",
       "                </tbody>\n",
       "            </table>\n",
       "        </td>\n",
       "        <td>\n",
       "            <table>\n",
       "                <thead>\n",
       "                    <tr>\n",
       "                        <th><p style=\"text-align:left;\">Navigation Axes</p>  </th>\n",
       "                        <th> <p style=\"text-align:left;\">Signal Axes</p> </th>\n",
       "                    </tr>\n",
       "                </thead>\n",
       "                <tbody>\n",
       "                    <tr>\n",
       "                        <td> <svg width=\"170\" height=\"75\" style=\"stroke:rgb(0,0,0);stroke-width:1\" >\n",
       "\n",
       "  <!-- Horizontal lines -->\n",
       "  <line x1=\"0\" y1=\"0\" x2=\"120\" y2=\"0\" style=\"stroke-width:2\" />\n",
       "  <line x1=\"0\" y1=\"25\" x2=\"120\" y2=\"25\" style=\"stroke-width:2\" />\n",
       "\n",
       "  <!-- Vertical lines -->\n",
       "  <line x1=\"0\" y1=\"0\" x2=\"0\" y2=\"25\" style=\"stroke-width:2\" />\n",
       "  <line x1=\"5\" y1=\"0\" x2=\"5\" y2=\"25\" />\n",
       "  <line x1=\"11\" y1=\"0\" x2=\"11\" y2=\"25\" />\n",
       "  <line x1=\"17\" y1=\"0\" x2=\"17\" y2=\"25\" />\n",
       "  <line x1=\"22\" y1=\"0\" x2=\"22\" y2=\"25\" />\n",
       "  <line x1=\"28\" y1=\"0\" x2=\"28\" y2=\"25\" />\n",
       "  <line x1=\"34\" y1=\"0\" x2=\"34\" y2=\"25\" />\n",
       "  <line x1=\"40\" y1=\"0\" x2=\"40\" y2=\"25\" />\n",
       "  <line x1=\"45\" y1=\"0\" x2=\"45\" y2=\"25\" />\n",
       "  <line x1=\"51\" y1=\"0\" x2=\"51\" y2=\"25\" />\n",
       "  <line x1=\"62\" y1=\"0\" x2=\"62\" y2=\"25\" />\n",
       "  <line x1=\"68\" y1=\"0\" x2=\"68\" y2=\"25\" />\n",
       "  <line x1=\"74\" y1=\"0\" x2=\"74\" y2=\"25\" />\n",
       "  <line x1=\"80\" y1=\"0\" x2=\"80\" y2=\"25\" />\n",
       "  <line x1=\"85\" y1=\"0\" x2=\"85\" y2=\"25\" />\n",
       "  <line x1=\"91\" y1=\"0\" x2=\"91\" y2=\"25\" />\n",
       "  <line x1=\"97\" y1=\"0\" x2=\"97\" y2=\"25\" />\n",
       "  <line x1=\"102\" y1=\"0\" x2=\"102\" y2=\"25\" />\n",
       "  <line x1=\"108\" y1=\"0\" x2=\"108\" y2=\"25\" />\n",
       "  <line x1=\"120\" y1=\"0\" x2=\"120\" y2=\"25\" style=\"stroke-width:2\" />\n",
       "\n",
       "  <!-- Colored Rectangle -->\n",
       "  <polygon points=\"0.0,0.0 120.0,0.0 120.0,25.412616514582485 0.0,25.412616514582485\" style=\"fill:#8B4903A0;stroke-width:0\"/>\n",
       "\n",
       "  <!-- Text -->\n",
       "  <text x=\"60.000000\" y=\"45.412617\" font-size=\"1.0rem\" font-weight=\"100\" text-anchor=\"middle\" >141267</text>\n",
       "  <text x=\"140.000000\" y=\"12.706308\" font-size=\"1.0rem\" font-weight=\"100\" text-anchor=\"middle\" transform=\"rotate(0,140.000000,12.706308)\">1</text>\n",
       "</svg> </td>\n",
       "                        <td> <svg width=\"170\" height=\"170\" style=\"stroke:rgb(0,0,0);stroke-width:1\" >\n",
       "\n",
       "  <!-- Horizontal lines -->\n",
       "  <line x1=\"0\" y1=\"0\" x2=\"120\" y2=\"0\" style=\"stroke-width:2\" />\n",
       "  <line x1=\"0\" y1=\"120\" x2=\"120\" y2=\"120\" style=\"stroke-width:2\" />\n",
       "\n",
       "  <!-- Vertical lines -->\n",
       "  <line x1=\"0\" y1=\"0\" x2=\"0\" y2=\"120\" style=\"stroke-width:2\" />\n",
       "  <line x1=\"120\" y1=\"0\" x2=\"120\" y2=\"120\" style=\"stroke-width:2\" />\n",
       "\n",
       "  <!-- Colored Rectangle -->\n",
       "  <polygon points=\"0.0,0.0 120.0,0.0 120.0,120.0 0.0,120.0\" style=\"fill:#ECB172A0;stroke-width:0\"/>\n",
       "\n",
       "  <!-- Text -->\n",
       "  <text x=\"60.000000\" y=\"140.000000\" font-size=\"1.0rem\" font-weight=\"100\" text-anchor=\"middle\" >60</text>\n",
       "  <text x=\"140.000000\" y=\"60.000000\" font-size=\"1.0rem\" font-weight=\"100\" text-anchor=\"middle\" transform=\"rotate(0,140.000000,60.000000)\">60</text>\n",
       "</svg> </td>\n",
       "                    </tr>\n",
       "                </tbody>\n",
       "            </table>\n",
       "        </td>\n",
       "    </tr>\n",
       "</table>"
      ],
      "text/plain": [
       "<LazyEBSD, title: , dimensions: (141267|60, 60)>"
      ]
     },
     "execution_count": 36,
     "metadata": {},
     "output_type": "execute_result"
    }
   ],
   "source": [
    "sim_dict = mp.get_patterns(\n",
    "    rotations=rot,\n",
    "    detector=detector,\n",
    "    energy=energy,\n",
    "    compute=False,\n",
    ")\n",
    "sim_dict"
   ]
  },
  {
   "cell_type": "code",
   "execution_count": 37,
   "id": "b45e4372-668e-4118-9f47-aad7b2aaf9ee",
   "metadata": {},
   "outputs": [],
   "source": [
    "fname_dict = f\"simulated_dictionary_{phase}_{detector.ncols}x{detector.nrows}_{int(energy)}kV_{int(sample_tilt)}deg_pcx{pc[0]}_pcy{pc[1]}_pcz{pc[2]}\""
   ]
  },
  {
   "cell_type": "markdown",
   "id": "8474454c-7054-45f8-a2a9-52578bfd5fc6",
   "metadata": {},
   "source": [
    "Remove \"#\" before the following lines to save the dictionary of simulated patterns to file"
   ]
  },
  {
   "cell_type": "code",
   "execution_count": 38,
   "id": "609bb42f-dee2-4fb4-919f-65a4dceb8fc3",
   "metadata": {},
   "outputs": [],
   "source": [
    "#sim_dict.save(os.path.join(dir_sim, phase, fname_dict + \".h5\"))\n",
    "#io.save(os.path.join(dir_sim, phase, fname_dict + \"_xmap.h5\"), sim_dict.xmap)"
   ]
  },
  {
   "cell_type": "markdown",
   "id": "58be7a1e-1f1c-4e3f-9d60-8eb6238ecb38",
   "metadata": {},
   "source": [
    "Remove \"#\" before the following lines to load the saved dictionary of simualted patterns into memory"
   ]
  },
  {
   "cell_type": "code",
   "execution_count": 39,
   "id": "d9c0c52b-783a-45a7-8537-2c2e25a35d5c",
   "metadata": {},
   "outputs": [],
   "source": [
    "#sim_dict = kp.load(os.path.join(dir_sim, phase, fname_dict + \".h5\"))\n",
    "#sim_dict._xmap = io.load(os.path.join(dir_sim, phase, fname_dict + \"_xmap.h5\"))"
   ]
  },
  {
   "cell_type": "markdown",
   "id": "62a14e74-4889-4729-bdb0-a7e20e9b9d56",
   "metadata": {},
   "source": [
    "### Perform dictionary indexing\n",
    "\n",
    "Dictionary indexing is implemented by Ole Natlandsmyr."
   ]
  },
  {
   "cell_type": "code",
   "execution_count": 40,
   "id": "1618d0b6-ebe1-4669-b515-53f8eace81c8",
   "metadata": {},
   "outputs": [
    {
     "name": "stderr",
     "output_type": "stream",
     "text": [
      "C:\\Users\\Hallvard\\AppData\\Local\\Temp\\ipykernel_8844\\960516650.py:5: PerformanceWarning: Reshaping is producing a large chunk. To accept the large\n",
      "chunk and silence this warning, set the option\n",
      "    >>> with dask.config.set(**{'array.slicing.split_large_chunks': False}):\n",
      "    ...     array.reshape(shape)\n",
      "\n",
      "To avoid creating the large chunks, set the option\n",
      "    >>> with dask.config.set(**{'array.slicing.split_large_chunks': True}):\n",
      "    ...     array.reshape(shape)Explictly passing ``limit`` to ``reshape`` will also silence this warning\n",
      "    >>> array.reshape(shape, limit='128 MiB')\n",
      "  xmap = s2.dictionary_indexing(dictionary=sim_dict, **di_kwargs)\n"
     ]
    },
    {
     "name": "stdout",
     "output_type": "stream",
     "text": [
      "Dictionary indexing information:\n",
      "\tPhase name: al\n",
      "\tMatching 40000 experimental pattern(s) to 141267 dictionary pattern(s)\n",
      "\tNormalizedCrossCorrelationMetric: float32, greater is better, rechunk: False, signal mask: False\n"
     ]
    },
    {
     "name": "stderr",
     "output_type": "stream",
     "text": [
      "100%|██████████| 21/21 [07:41<00:00, 21.98s/it]\n",
      "c:\\EBSD-GUI\\env\\lib\\site-packages\\kikuchipy\\indexing\\_dictionary_indexing.py:131: RuntimeWarning: overflow encountered in long_scalars\n",
      "  np.floor(n_experimental * dictionary_size / total_time)\n"
     ]
    },
    {
     "name": "stdout",
     "output_type": "stream",
     "text": [
      "\tIndexing speed: 86 patterns/s, 2937700 comparisons/s\n"
     ]
    },
    {
     "data": {
      "text/plain": [
       "Phase    Orientations  Name  Space group  Point group  Proper point group     Color\n",
       "    0  40000 (100.0%)    al        Fm-3m         m-3m                 432  tab:blue\n",
       "Properties: scores, simulation_indices\n",
       "Scan unit: um"
      ]
     },
     "execution_count": 40,
     "metadata": {},
     "output_type": "execute_result"
    }
   ],
   "source": [
    "di_kwargs = dict(metric=\"ncc\", keep_n=20, n_per_iteration=n_per_iteration)\n",
    "if use_signal_mask:\n",
    "    di_kwargs[\"signal_mask\"] = signal_mask\n",
    "t1 = time()\n",
    "xmap = s2.dictionary_indexing(dictionary=sim_dict, **di_kwargs)\n",
    "t2 = time()\n",
    "xmap.scan_unit = \"um\"\n",
    "xmap"
   ]
  },
  {
   "cell_type": "code",
   "execution_count": null,
   "id": "c693a5ce-da0e-4f40-af35-289bef14abe1",
   "metadata": {},
   "outputs": [],
   "source": [
    "io.save(os.path.join(dir_out, \"di_results.h5\"), xmap)  # orix' HDF5\n",
    "io.save(os.path.join(dir_out, \"di_results.ang\"), xmap)  # .ang"
   ]
  },
  {
   "cell_type": "markdown",
   "id": "e7b92229-4734-456e-b595-d9c082c21e69",
   "metadata": {},
   "source": [
    "## Inspect dictionary indexing results\n",
    "\n",
    "Plot and save the normalized cross correlation score $r$"
   ]
  },
  {
   "cell_type": "code",
   "execution_count": null,
   "id": "f8a0d63b-3c12-4f7f-bfda-7b91b661a534",
   "metadata": {},
   "outputs": [],
   "source": [
    "fig = xmap.plot(\n",
    "    value=xmap.scores[:, 0],\n",
    "    colorbar=True,\n",
    "    colorbar_label=\"Normalized cross correlation score\",\n",
    "    return_figure=True,\n",
    "    cmap=\"gray\",\n",
    ")\n",
    "fig.savefig(os.path.join(dir_out, \"ncc.png\"), **savefig_kwargs)"
   ]
  },
  {
   "cell_type": "markdown",
   "id": "d9feb720-4d84-4a23-91c5-6d6dc33c6e53",
   "metadata": {},
   "source": [
    "Calculate, plot and save the orientation similarity map, which shows how similar the best matching simulated patterns in each map point are to their neighbours"
   ]
  },
  {
   "cell_type": "code",
   "execution_count": null,
   "id": "8c50c59a-9c15-4ac9-b55b-9f9dfdaaa98b",
   "metadata": {},
   "outputs": [],
   "source": [
    "osm = kp.indexing.orientation_similarity_map(xmap)"
   ]
  },
  {
   "cell_type": "code",
   "execution_count": null,
   "id": "ff75cb49-56cd-4b67-8738-7e5eb827f409",
   "metadata": {},
   "outputs": [],
   "source": [
    "fig = xmap.plot(\n",
    "    value=osm.ravel(),\n",
    "    colorbar=True,\n",
    "    colorbar_label=\"Orientation similarity\",\n",
    "    return_figure=True,\n",
    "    cmap=\"gray\",\n",
    ")\n",
    "fig.savefig(os.path.join(dir_out, \"osm.png\"), **savefig_kwargs)"
   ]
  },
  {
   "cell_type": "markdown",
   "id": "5e8834cf-d1ce-4ab1-a06b-e46d500f21e8",
   "metadata": {},
   "source": [
    "## Refine orientations (not projection centers)"
   ]
  },
  {
   "cell_type": "code",
   "execution_count": null,
   "id": "ae68ccda-3ee9-4750-8aa2-977125f9756f",
   "metadata": {},
   "outputs": [],
   "source": [
    "if refine == 1:\n",
    "    fname_ref = \"ori\"\n",
    "elif refine == 2:\n",
    "    fname_ref = \"pc\"\n",
    "elif refine == 3:\n",
    "    fname_ref = \"ori_pcs\""
   ]
  },
  {
   "cell_type": "code",
   "execution_count": null,
   "id": "61487c1a-9b33-483b-baec-2783fadde108",
   "metadata": {},
   "outputs": [],
   "source": [
    "# Perform refinement\n",
    "refine_kwargs = dict(\n",
    "        xmap=xmap,\n",
    "        detector=detector,\n",
    "        master_pattern=mp,\n",
    "        energy=energy,\n",
    "        compute=True,\n",
    ")    \n",
    "if refine == 1:\n",
    "    xmap_refined = s2.refine_orientation(**refine_kwargs)\n",
    "elif refine == 2:\n",
    "    ncc_after_refinement, detector_refined = s2.refine_projection_center(\n",
    "        **refine_kwargs\n",
    "    )\n",
    "elif refine == 3:\n",
    "    xmap_refined, detector_refined = s2.refine_orientation_projection_center(\n",
    "        **refine_kwargs\n",
    "    )"
   ]
  },
  {
   "cell_type": "code",
   "execution_count": null,
   "id": "7c5c81d1-03ae-4601-a35c-00e605170649",
   "metadata": {},
   "outputs": [],
   "source": [
    "# Save orientation maps\n",
    "if refine in [1, 3]:\n",
    "    io.save(os.path.join(dir_out, f\"di_ref_{fname_ref}_results.h5\"), xmap_refined)  # orix' HDF5\n",
    "    io.save(os.path.join(dir_out, f\"di_ref_{fname_ref}_results.ang\"), xmap_refined)  # .ang"
   ]
  },
  {
   "cell_type": "code",
   "execution_count": null,
   "id": "6424d493-4944-4df5-9a51-c4d55f243448",
   "metadata": {},
   "outputs": [],
   "source": [
    "# Get NCC map min/max\n",
    "if refine != 0:\n",
    "    ncc_map = xmap.get_map_data(xmap.scores[:, 0])\n",
    "    if refine != 2:\n",
    "        ncc_after_refinement = xmap_refined.get_map_data(\"scores\")\n",
    "\n",
    "    ncc_di_min = np.min(ncc_map)\n",
    "    ncc_di_max = np.max(ncc_map)\n",
    "    ncc_ref_min = np.min(ncc_after_refinement)\n",
    "    ncc_ref_max = np.max(ncc_after_refinement)\n",
    "\n",
    "    vmin = min([ncc_di_min, ncc_ref_min])\n",
    "    vmax = max([ncc_di_max, ncc_ref_max])"
   ]
  },
  {
   "cell_type": "code",
   "execution_count": null,
   "id": "3464d219-6692-42b5-81ef-dbc38053660b",
   "metadata": {},
   "outputs": [],
   "source": [
    "# NCC maps\n",
    "if refine != 0:\n",
    "    fig, ax = plt.subplots(ncols=2, figsize=(9, 3))\n",
    "    im0 = ax[0].imshow(ncc_map, vmin=vmin, vmax=vmax)\n",
    "    ax[0].axis(\"off\")\n",
    "    fig.colorbar(im0, ax=ax[0], label=\"NCC from DI\")\n",
    "    im1 = ax[1].imshow(ncc_after_refinement, vmin=vmin, vmax=vmax)\n",
    "    ax[1].axis(\"off\")\n",
    "    ncc_after_label = f\"NCC after {fname_ref} ref.\"\n",
    "    fig.colorbar(im1, ax=ax[1], label=ncc_after_label)\n",
    "    fig.tight_layout();\n",
    "    fig.savefig(os.path.join(dir_out, f\"ncc_scores_di_ref_{fname_ref}.png\"), **savefig_kwargs)"
   ]
  },
  {
   "cell_type": "code",
   "execution_count": null,
   "id": "59a7f884-d058-4130-8960-e299afb7048a",
   "metadata": {},
   "outputs": [],
   "source": [
    "# NCC histograms\n",
    "if refine != 0:\n",
    "    bins = np.linspace(vmin, vmax, 100)\n",
    "    fig, ax = plt.subplots(figsize=(9, 5))\n",
    "    _ = ax.hist(ncc_map.ravel(), bins, alpha=0.5, label=\"NCC from DI\")\n",
    "    _ = ax.hist(\n",
    "        ncc_after_refinement.ravel(),\n",
    "        bins,\n",
    "        alpha=0.5,\n",
    "        label=ncc_after_label,\n",
    "    )\n",
    "    ax.set_xlabel(\"Normalized cross correlation (NCC) scores\")\n",
    "    ax.set_ylabel(\"Frequency\")\n",
    "    ax.legend()\n",
    "    fig.tight_layout();\n",
    "    fig.savefig(os.path.join(dir_out, f\"ncc_scores_di_ref_{fname_ref}_histogram.png\"), **savefig_kwargs)"
   ]
  },
  {
   "cell_type": "code",
   "execution_count": null,
   "id": "dd38826c-2064-4cc9-afbc-3c8328ae4e9f",
   "metadata": {},
   "outputs": [],
   "source": [
    "# Plot PC\n",
    "if refine in [2, 3]:\n",
    "    fig, ax = plt.subplots(ncols=3, figsize=(15, 3))\n",
    "    im0 = ax[0].imshow(detector_refined.pcx)\n",
    "    fig.colorbar(im0, ax=ax[0], label=\"Projection center x\")\n",
    "    ax[0].axis(\"off\")\n",
    "    im1 = ax[1].imshow(detector_refined.pcy)\n",
    "    fig.colorbar(im1, ax=ax[1], label=\"Projection center y\")\n",
    "    ax[1].axis(\"off\")\n",
    "    im2 = ax[2].imshow(detector_refined.pcz)\n",
    "    fig.colorbar(im2, ax=ax[2], label=\"Projection center z\")\n",
    "    ax[2].axis(\"off\")\n",
    "    fig.tight_layout();\n",
    "    fig.savefig(os.path.join(dir_out, f\"pc_ref_{fname_ref}.png\"), **savefig_kwargs)"
   ]
  },
  {
   "cell_type": "code",
   "execution_count": null,
   "id": "7d8a3e76-c325-42aa-bf9c-4644beba3d30",
   "metadata": {},
   "outputs": [],
   "source": [
    "# Save PC values to file\n",
    "if refine in [2, 3]:\n",
    "    nav_size = np.prod(detector_refined.navigation_shape)\n",
    "    pc = detector_refined.pc_tsl().reshape((nav_size, 3))\n",
    "    idx_map_center = pc.shape[0] // 2\n",
    "    pc_map_center = pc[idx_map_center]\n",
    "    np.savetxt(\n",
    "        os.path.join(dir_out, f\"pc_values_ref_{fname_ref}.txt\"),\n",
    "        pc,\n",
    "        fmt=\"%.6f\",\n",
    "        header=\"PC map center: {:.6f} {:.6f} {:.6f}\".format(*pc_map_center),\n",
    "    )   \n",
    "    print(f\"PC in map center: {pc_map_center}\")"
   ]
  },
  {
   "cell_type": "code",
   "execution_count": null,
   "id": "ad4d18c1-aa6c-4e33-83e1-db1484fb1380",
   "metadata": {},
   "outputs": [],
   "source": [
    "plt.close(\"all\")"
   ]
  },
  {
   "cell_type": "code",
   "execution_count": null,
   "id": "0577bebd-8b76-4db1-92bd-54d632ef5be2",
   "metadata": {},
   "outputs": [],
   "source": [
    "t3 = time()"
   ]
  },
  {
   "cell_type": "code",
   "execution_count": null,
   "id": "f6e9e6e2-f576-46a3-a2c2-6f9aa858407d",
   "metadata": {},
   "outputs": [],
   "source": [
    "n_experimental_patterns = s.axes_manager.navigation_size\n",
    "time_total = t3 - t0\n",
    "time_di = t2 - t1\n",
    "\n",
    "f_settings.write(\"Indexed patterns per second (n / total processing)\", n_experimental_patterns / time_total)\n",
    "f_settings.write(\"Indexed patterns per second (n / dictionary indexing)\", n_experimental_patterns / time_di)\n",
    "f_settings.write(\"Time (total processing)\", f\"{time_total} s\")\n",
    "f_settings.write(\"Time (dictionary indexing)\", f\"{time_di} s\")\n",
    "\n",
    "f_settings.close()"
   ]
  }
 ],
 "metadata": {
  "kernelspec": {
   "display_name": "Python 3.9.6 64-bit",
   "language": "python",
   "name": "python3"
  },
  "language_info": {
   "codemirror_mode": {
    "name": "ipython",
    "version": 3
   },
   "file_extension": ".py",
   "mimetype": "text/x-python",
   "name": "python",
   "nbconvert_exporter": "python",
   "pygments_lexer": "ipython3",
   "version": "3.9.6"
  },
  "vscode": {
   "interpreter": {
    "hash": "31f2aee4e71d21fbe5cf8b01ff0e069b9275f58929596ceb00d14d90e3e16cd6"
   }
  }
 },
 "nbformat": 4,
 "nbformat_minor": 5
}
